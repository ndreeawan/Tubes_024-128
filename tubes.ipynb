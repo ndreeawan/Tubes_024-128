{
  "nbformat": 4,
  "nbformat_minor": 0,
  "metadata": {
    "accelerator": "GPU",
    "colab": {
      "name": "tubes.ipynb",
      "provenance": []
    },
    "kernelspec": {
      "display_name": "Python 3",
      "name": "python3"
    },
    "language_info": {
      "name": "python"
    }
  },
  "cells": [
    {
      "cell_type": "code",
      "metadata": {
        "id": "DG4wHBH7K71N"
      },
      "source": [
        "# Tulis Program Anda Disini!"
      ],
      "execution_count": null,
      "outputs": []
    },
    {
      "cell_type": "code",
      "metadata": {
        "colab": {
          "base_uri": "https://localhost:8080/"
        },
        "id": "P_R1d_EoXEm4",
        "outputId": "23320af1-916f-4f75-94d6-ecf2e7c37470"
      },
      "source": [
        "from google.colab import drive\n",
        "drive.mount('/content/drive')"
      ],
      "execution_count": null,
      "outputs": [
        {
          "name": "stdout",
          "output_type": "stream",
          "text": [
            "Mounted at /content/drive\n"
          ]
        }
      ]
    },
    {
      "cell_type": "code",
      "metadata": {
        "id": "Ofl3OJlJXUM1"
      },
      "source": [
        "# Definisikan path kaggle json\n",
        "# Sesuaikan dengan path anda\n",
        "import os\n",
        "os.environ['KAGGLE_CONFIG_DIR'] = \"/content/drive/My Drive/Machine_learning/\""
      ],
      "execution_count": null,
      "outputs": []
    },
    {
      "cell_type": "code",
      "metadata": {
        "colab": {
          "base_uri": "https://localhost:8080/"
        },
        "id": "ADvGip7QZwmA",
        "outputId": "9d7b7899-b422-4585-e4dc-13795c4f3440"
      },
      "source": [
        "%cd /content/drive/My Drive/Machine_learning/modul4"
      ],
      "execution_count": null,
      "outputs": [
        {
          "name": "stdout",
          "output_type": "stream",
          "text": [
            "/content/drive/My Drive/Machine_learning/modul4\n"
          ]
        }
      ]
    },
    {
      "cell_type": "code",
      "metadata": {
        "colab": {
          "base_uri": "https://localhost:8080/"
        },
        "id": "QmyvHcyDYfMZ",
        "outputId": "e831ec9d-9fbc-4260-d186-74706a55a045"
      },
      "source": [
        "# cek API \n",
        "!ls"
      ],
      "execution_count": null,
      "outputs": [
        {
          "name": "stdout",
          "output_type": "stream",
          "text": [
            "base  crop_disease_wise  dataset_mod4  kaggle.json\n"
          ]
        }
      ]
    },
    {
      "cell_type": "code",
      "metadata": {
        "colab": {
          "base_uri": "https://localhost:8080/"
        },
        "id": "WKime44PcxuR",
        "outputId": "b35df6e0-3414-4e58-cb5e-3fe75a54896a"
      },
      "source": [
        "# pengunduhan dataset\n",
        "!kaggle datasets download -d tushartalukder/crop-disease-wise"
      ],
      "execution_count": null,
      "outputs": [
        {
          "name": "stdout",
          "output_type": "stream",
          "text": [
            "Downloading crop-disease-wise.zip to /content/drive/My Drive/Machine_learning/modul4\n",
            " 99% 812M/818M [00:12<00:00, 57.3MB/s]\n",
            "100% 818M/818M [00:12<00:00, 69.4MB/s]\n"
          ]
        }
      ]
    },
    {
      "cell_type": "code",
      "metadata": {
        "colab": {
          "base_uri": "https://localhost:8080/"
        },
        "id": "mmGjF438c8_e",
        "outputId": "98e2c992-a2ec-45ba-9c16-e9611091f8fc"
      },
      "source": [
        "# cek apakah sudah terunduh\n",
        "!ls"
      ],
      "execution_count": null,
      "outputs": [
        {
          "name": "stdout",
          "output_type": "stream",
          "text": [
            "base  crop_disease_wise  dataset_mod4  kaggle.json\n"
          ]
        }
      ]
    },
    {
      "cell_type": "code",
      "metadata": {
        "id": "LU0NOqhxdBoS"
      },
      "source": [
        "# proses ekstraksi dan hapus file zip\n",
        "!unzip \\*.zip &> /dev/null && rm *.zip"
      ],
      "execution_count": null,
      "outputs": []
    },
    {
      "cell_type": "code",
      "metadata": {
        "id": "7oGosHUUfvra"
      },
      "source": [
        "!mkdir 'dataset_mod4'"
      ],
      "execution_count": null,
      "outputs": []
    },
    {
      "cell_type": "code",
      "metadata": {
        "colab": {
          "base_uri": "https://localhost:8080/"
        },
        "id": "EjGrtShtgAGI",
        "outputId": "c541f4bb-b295-4569-d4d9-94e4cce5d9ba"
      },
      "source": [
        "!pip install split-folders"
      ],
      "execution_count": null,
      "outputs": [
        {
          "name": "stdout",
          "output_type": "stream",
          "text": [
            "Collecting split-folders\n",
            "  Downloading split_folders-0.4.3-py3-none-any.whl (7.4 kB)\n",
            "Installing collected packages: split-folders\n",
            "Successfully installed split-folders-0.4.3\n"
          ]
        }
      ]
    },
    {
      "cell_type": "code",
      "metadata": {
        "id": "rj9jk7NTgNM3"
      },
      "source": [
        "import splitfolders\n",
        "\n",
        "base_dir = '/content/drive/My Drive/Machine_learning/'\n",
        "split_dir = '/content/drive/My Drive/Machine_learning/'\n",
        "\n",
        "\n",
        "splitfolders.ratio(base_dir, output=split_dir, \n",
        "                   seed=1337, ratio=(.8, .19, .01), \n",
        "                   group_prefix=None) # default values"
      ],
      "execution_count": null,
      "outputs": []
    },
    {
      "cell_type": "code",
      "metadata": {
        "id": "DugTp_Igqd_8"
      },
      "source": [
        "import os\n",
        "base_train_dir = \"/content/drive/My Drive/Machine_learning/\"\n",
        "\n",
        "train_dir = os.path.join(base_train_dir, 'train')\n",
        "test_dir = os.path.join(base_train_dir, 'test')\n",
        "val_dir = os.path.join(base_train_dir, 'val')"
      ],
      "execution_count": null,
      "outputs": []
    },
    {
      "cell_type": "code",
      "metadata": {
        "id": "bznZA8CkJJM2"
      },
      "source": [
        "from tensorflow.keras.preprocessing.image import ImageDataGenerator\n",
        "\n",
        "datagen = ImageDataGenerator(rescale=1./255)"
      ],
      "execution_count": null,
      "outputs": []
    },
    {
      "cell_type": "code",
      "metadata": {
        "colab": {
          "base_uri": "https://localhost:8080/"
        },
        "id": "AWMAXBfa4C74",
        "outputId": "c3b767bf-bec6-44df-e1f0-9d94e419a5da"
      },
      "source": [
        "import tensorflow as tf\n",
        "\n",
        "train_gen = datagen.flow_from_directory(train_dir, \n",
        "                                        color_mode=\"rgb\", \n",
        "                                        target_size=(150, 150), \n",
        "                                        shuffle=True,\n",
        "                                        class_mode='categorical'\n",
        ")\n",
        "\n",
        "test_gen = datagen.flow_from_directory(test_dir, \n",
        "                                        color_mode=\"rgb\", \n",
        "                                        target_size=(150, 150), \n",
        "                                        shuffle=True,\n",
        "                                        class_mode='categorical'\n",
        ")\n",
        "\n",
        "val_gen = datagen.flow_from_directory(val_dir, \n",
        "                                        color_mode=\"rgb\", \n",
        "                                        target_size=(150, 150), \n",
        "                                        shuffle=True,\n",
        "                                        class_mode='categorical'\n",
        ")"
      ],
      "execution_count": null,
      "outputs": [
        {
          "name": "stdout",
          "output_type": "stream",
          "text": [
            "Found 6311 images belonging to 4 classes.\n",
            "Found 81 images belonging to 4 classes.\n",
            "Found 1498 images belonging to 4 classes.\n"
          ]
        }
      ]
    },
    {
      "cell_type": "code",
      "metadata": {
        "id": "ONUk9QVRJVVx"
      },
      "source": [
        "from tensorflow.keras.models import Sequential, load_model\n",
        "from tensorflow.keras.layers import InputLayer, Dense, Conv2D, MaxPool2D, Flatten, BatchNormalization, Dropout, GlobalMaxPooling2D, BatchNormalization"
      ],
      "execution_count": null,
      "outputs": []
    },
    {
      "cell_type": "code",
      "metadata": {
        "id": "M78W8MfaJd5Z"
      },
      "source": [
        "# Feature Extraction Layer\n",
        "model = Sequential()\n",
        "\n",
        "model.add(InputLayer(input_shape=[150,150,3]))\n",
        "model.add(Conv2D(filters=16, kernel_size=3, strides=1, padding='same', activation='relu'))\n",
        "model.add(MaxPool2D(pool_size=2, padding='same'))\n",
        "model.add(BatchNormalization())\n",
        "\n",
        "model.add(Conv2D(filters=32, kernel_size=3, strides=1, padding='same', activation='relu'))\n",
        "model.add(MaxPool2D(pool_size=2, padding='same'))\n",
        "model.add(BatchNormalization())\n",
        "\n",
        "model.add(Conv2D(filters=64, kernel_size=3, strides=1, padding='same', activation='relu'))\n",
        "model.add(MaxPool2D(pool_size=2, padding='same'))\n",
        "\n",
        "model.add(Dropout(0.2))\n",
        "model.add(GlobalMaxPooling2D())\n",
        "model.add(Flatten())"
      ],
      "execution_count": null,
      "outputs": []
    },
    {
      "cell_type": "code",
      "metadata": {
        "id": "qX5Zx2rYJiiy"
      },
      "source": [
        "# Fully Connected Layer\n",
        "model.add(Dense(128, activation='relu'))\n",
        "model.add(Dropout(0.25))\n",
        "model.add(Dense(4, activation='softmax'))"
      ],
      "execution_count": null,
      "outputs": []
    },
    {
      "cell_type": "code",
      "metadata": {
        "colab": {
          "base_uri": "https://localhost:8080/"
        },
        "id": "dK_Abgw-Jmkm",
        "outputId": "0172a0e0-a8db-4942-aed9-6ec6c0c27d96"
      },
      "source": [
        "print(model.summary())"
      ],
      "execution_count": null,
      "outputs": [
        {
          "name": "stdout",
          "output_type": "stream",
          "text": [
            "Model: \"sequential_3\"\n",
            "_________________________________________________________________\n",
            " Layer (type)                Output Shape              Param #   \n",
            "=================================================================\n",
            " conv2d_9 (Conv2D)           (None, 150, 150, 16)      448       \n",
            "                                                                 \n",
            " max_pooling2d_9 (MaxPooling  (None, 75, 75, 16)       0         \n",
            " 2D)                                                             \n",
            "                                                                 \n",
            " batch_normalization_6 (Batc  (None, 75, 75, 16)       64        \n",
            " hNormalization)                                                 \n",
            "                                                                 \n",
            " conv2d_10 (Conv2D)          (None, 75, 75, 32)        4640      \n",
            "                                                                 \n",
            " max_pooling2d_10 (MaxPoolin  (None, 38, 38, 32)       0         \n",
            " g2D)                                                            \n",
            "                                                                 \n",
            " batch_normalization_7 (Batc  (None, 38, 38, 32)       128       \n",
            " hNormalization)                                                 \n",
            "                                                                 \n",
            " conv2d_11 (Conv2D)          (None, 38, 38, 64)        18496     \n",
            "                                                                 \n",
            " max_pooling2d_11 (MaxPoolin  (None, 19, 19, 64)       0         \n",
            " g2D)                                                            \n",
            "                                                                 \n",
            " dropout_5 (Dropout)         (None, 19, 19, 64)        0         \n",
            "                                                                 \n",
            " global_max_pooling2d_3 (Glo  (None, 64)               0         \n",
            " balMaxPooling2D)                                                \n",
            "                                                                 \n",
            " flatten_3 (Flatten)         (None, 64)                0         \n",
            "                                                                 \n",
            " dense_4 (Dense)             (None, 128)               8320      \n",
            "                                                                 \n",
            " dropout_6 (Dropout)         (None, 128)               0         \n",
            "                                                                 \n",
            " dense_5 (Dense)             (None, 4)                 516       \n",
            "                                                                 \n",
            "=================================================================\n",
            "Total params: 32,612\n",
            "Trainable params: 32,516\n",
            "Non-trainable params: 96\n",
            "_________________________________________________________________\n",
            "None\n"
          ]
        }
      ]
    },
    {
      "cell_type": "code",
      "metadata": {
        "colab": {
          "base_uri": "https://localhost:8080/"
        },
        "id": "v61h9KsUJqHk",
        "outputId": "773ba40d-997a-4a2c-b4a6-b8c701399cb6"
      },
      "source": [
        "from tensorflow.keras.optimizers import Adam\n",
        "\n",
        "model.compile(optimizer=Adam(lr=0.001), \n",
        "              loss='categorical_crossentropy', \n",
        "              metrics=['acc'])"
      ],
      "execution_count": null,
      "outputs": [
        {
          "name": "stderr",
          "output_type": "stream",
          "text": [
            "/usr/local/lib/python3.7/dist-packages/keras/optimizer_v2/adam.py:105: UserWarning: The `lr` argument is deprecated, use `learning_rate` instead.\n",
            "  super(Adam, self).__init__(name, **kwargs)\n"
          ]
        }
      ]
    },
    {
      "cell_type": "code",
      "metadata": {
        "colab": {
          "background_save": true,
          "base_uri": "https://localhost:8080/",
          "height": 1000
        },
        "id": "liMQTjU7Jvs7",
        "outputId": "2ac30726-083b-44d9-c2c3-0891afd0e361"
      },
      "source": [
        "H = model.fit(train_gen, batch_size=32, epochs=50, validation_data=val_gen)"
      ],
      "execution_count": null,
      "outputs": [
        {
          "name": "stdout",
          "output_type": "stream",
          "text": [
            "Epoch 1/50\n",
            "198/198 [==============================] - 2334s 12s/step - loss: 0.1891 - acc: 0.9304 - val_loss: 0.7461 - val_acc: 0.6983\n",
            "Epoch 2/50\n",
            " 58/198 [=======>......................] - ETA: 1:07 - loss: 0.0390 - acc: 0.9871"
          ]
        },
        {
          "ename": "UnknownError",
          "evalue": "ignored",
          "output_type": "error",
          "traceback": [
            "\u001b[0;31m---------------------------------------------------------------------------\u001b[0m",
            "\u001b[0;31mUnknownError\u001b[0m                              Traceback (most recent call last)",
            "\u001b[0;32m<ipython-input-18-637afde52314>\u001b[0m in \u001b[0;36m<module>\u001b[0;34m()\u001b[0m\n\u001b[0;32m----> 1\u001b[0;31m \u001b[0mH\u001b[0m \u001b[0;34m=\u001b[0m \u001b[0mmodel\u001b[0m\u001b[0;34m.\u001b[0m\u001b[0mfit\u001b[0m\u001b[0;34m(\u001b[0m\u001b[0mtrain_gen\u001b[0m\u001b[0;34m,\u001b[0m \u001b[0mbatch_size\u001b[0m\u001b[0;34m=\u001b[0m\u001b[0;36m32\u001b[0m\u001b[0;34m,\u001b[0m \u001b[0mepochs\u001b[0m\u001b[0;34m=\u001b[0m\u001b[0;36m50\u001b[0m\u001b[0;34m,\u001b[0m \u001b[0mvalidation_data\u001b[0m\u001b[0;34m=\u001b[0m\u001b[0mval_gen\u001b[0m\u001b[0;34m)\u001b[0m\u001b[0;34m\u001b[0m\u001b[0;34m\u001b[0m\u001b[0m\n\u001b[0m",
            "\u001b[0;32m/usr/local/lib/python3.7/dist-packages/keras/utils/traceback_utils.py\u001b[0m in \u001b[0;36merror_handler\u001b[0;34m(*args, **kwargs)\u001b[0m\n\u001b[1;32m     65\u001b[0m     \u001b[0;32mexcept\u001b[0m \u001b[0mException\u001b[0m \u001b[0;32mas\u001b[0m \u001b[0me\u001b[0m\u001b[0;34m:\u001b[0m  \u001b[0;31m# pylint: disable=broad-except\u001b[0m\u001b[0;34m\u001b[0m\u001b[0;34m\u001b[0m\u001b[0m\n\u001b[1;32m     66\u001b[0m       \u001b[0mfiltered_tb\u001b[0m \u001b[0;34m=\u001b[0m \u001b[0m_process_traceback_frames\u001b[0m\u001b[0;34m(\u001b[0m\u001b[0me\u001b[0m\u001b[0;34m.\u001b[0m\u001b[0m__traceback__\u001b[0m\u001b[0;34m)\u001b[0m\u001b[0;34m\u001b[0m\u001b[0;34m\u001b[0m\u001b[0m\n\u001b[0;32m---> 67\u001b[0;31m       \u001b[0;32mraise\u001b[0m \u001b[0me\u001b[0m\u001b[0;34m.\u001b[0m\u001b[0mwith_traceback\u001b[0m\u001b[0;34m(\u001b[0m\u001b[0mfiltered_tb\u001b[0m\u001b[0;34m)\u001b[0m \u001b[0;32mfrom\u001b[0m \u001b[0;32mNone\u001b[0m\u001b[0;34m\u001b[0m\u001b[0;34m\u001b[0m\u001b[0m\n\u001b[0m\u001b[1;32m     68\u001b[0m     \u001b[0;32mfinally\u001b[0m\u001b[0;34m:\u001b[0m\u001b[0;34m\u001b[0m\u001b[0;34m\u001b[0m\u001b[0m\n\u001b[1;32m     69\u001b[0m       \u001b[0;32mdel\u001b[0m \u001b[0mfiltered_tb\u001b[0m\u001b[0;34m\u001b[0m\u001b[0;34m\u001b[0m\u001b[0m\n",
            "\u001b[0;32m/usr/local/lib/python3.7/dist-packages/tensorflow/python/eager/execute.py\u001b[0m in \u001b[0;36mquick_execute\u001b[0;34m(op_name, num_outputs, inputs, attrs, ctx, name)\u001b[0m\n\u001b[1;32m     57\u001b[0m     \u001b[0mctx\u001b[0m\u001b[0;34m.\u001b[0m\u001b[0mensure_initialized\u001b[0m\u001b[0;34m(\u001b[0m\u001b[0;34m)\u001b[0m\u001b[0;34m\u001b[0m\u001b[0;34m\u001b[0m\u001b[0m\n\u001b[1;32m     58\u001b[0m     tensors = pywrap_tfe.TFE_Py_Execute(ctx._handle, device_name, op_name,\n\u001b[0;32m---> 59\u001b[0;31m                                         inputs, attrs, num_outputs)\n\u001b[0m\u001b[1;32m     60\u001b[0m   \u001b[0;32mexcept\u001b[0m \u001b[0mcore\u001b[0m\u001b[0;34m.\u001b[0m\u001b[0m_NotOkStatusException\u001b[0m \u001b[0;32mas\u001b[0m \u001b[0me\u001b[0m\u001b[0;34m:\u001b[0m\u001b[0;34m\u001b[0m\u001b[0;34m\u001b[0m\u001b[0m\n\u001b[1;32m     61\u001b[0m     \u001b[0;32mif\u001b[0m \u001b[0mname\u001b[0m \u001b[0;32mis\u001b[0m \u001b[0;32mnot\u001b[0m \u001b[0;32mNone\u001b[0m\u001b[0;34m:\u001b[0m\u001b[0;34m\u001b[0m\u001b[0;34m\u001b[0m\u001b[0m\n",
            "\u001b[0;31mUnknownError\u001b[0m:  UnidentifiedImageError: cannot identify image file <_io.BytesIO object at 0x7f9c44be98f0>\nTraceback (most recent call last):\n\n  File \"/usr/local/lib/python3.7/dist-packages/tensorflow/python/ops/script_ops.py\", line 275, in __call__\n    ret = func(*args)\n\n  File \"/usr/local/lib/python3.7/dist-packages/tensorflow/python/autograph/impl/api.py\", line 649, in wrapper\n    return func(*args, **kwargs)\n\n  File \"/usr/local/lib/python3.7/dist-packages/tensorflow/python/data/ops/dataset_ops.py\", line 992, in generator_py_func\n    values = next(generator_state.get_iterator(iterator_id))\n\n  File \"/usr/local/lib/python3.7/dist-packages/keras/engine/data_adapter.py\", line 834, in wrapped_generator\n    for data in generator_fn():\n\n  File \"/usr/local/lib/python3.7/dist-packages/keras/engine/data_adapter.py\", line 960, in generator_fn\n    yield x[i]\n\n  File \"/usr/local/lib/python3.7/dist-packages/keras_preprocessing/image/iterator.py\", line 65, in __getitem__\n    return self._get_batches_of_transformed_samples(index_array)\n\n  File \"/usr/local/lib/python3.7/dist-packages/keras_preprocessing/image/iterator.py\", line 230, in _get_batches_of_transformed_samples\n    interpolation=self.interpolation)\n\n  File \"/usr/local/lib/python3.7/dist-packages/keras_preprocessing/image/utils.py\", line 114, in load_img\n    img = pil_image.open(io.BytesIO(f.read()))\n\n  File \"/usr/local/lib/python3.7/dist-packages/PIL/Image.py\", line 2896, in open\n    \"cannot identify image file %r\" % (filename if filename else fp)\n\nPIL.UnidentifiedImageError: cannot identify image file <_io.BytesIO object at 0x7f9c44be98f0>\n\n\n\t [[{{node PyFunc}}]]\n\t [[IteratorGetNext]] [Op:__inference_train_function_2561]"
          ]
        }
      ]
    }
  ]
}